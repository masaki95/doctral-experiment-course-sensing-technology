{
 "cells": [
  {
   "cell_type": "markdown",
   "metadata": {},
   "source": [
    "https://cloud.google.com/blog/ja/products/gcp/my-summer-project-a-rock-paper-scissors-machine-built-on-tensorflow　\n",
    "こちらのサイトを参考にしました。"
   ]
  },
  {
   "cell_type": "code",
   "execution_count": 20,
   "metadata": {},
   "outputs": [
    {
     "name": "stdout",
     "output_type": "stream",
     "text": [
      "boarder1: 750.6205, boarder2: 296.263\n",
      "pressure sensor data: \n",
      "[[2.]\n",
      " [2.]\n",
      " [2.]\n",
      " ...\n",
      " [0.]\n",
      " [0.]\n",
      " [0.]]\n"
     ]
    }
   ],
   "source": [
    "# import pressure sensor data from CSV files\n",
    "from __future__ import print_function\n",
    "import numpy as np\n",
    "p_data_wu = np.genfromtxt(\"wu_pressuresensor_data.csv\", dtype=np.float32, delimiter=\",\")\n",
    "p_data_takeuchi = np.genfromtxt(\"takeuchi_pressuresensor_data.csv\", dtype=np.float32, delimiter=\",\")\n",
    "p_data_zero = np.genfromtxt(\"zero_pressuresensor_data.csv\", dtype=np.float32, delimiter=\",\")\n",
    "p_data = np.append(p_data_wu, p_data_takeuchi, axis=0)\n",
    "p_data = np.append(p_data, p_data_zero, axis=0)\n",
    "\n",
    "# create boarder line\n",
    "boarder1 = np.sum(p_data[0:1999]) / 2000 \n",
    "boarder2 = np.sum(p_data[1000:2999]) / 2000\n",
    "print(\"boarder1: \" + str(boarder1) + \", boarder2: \" + str(boarder2))\n",
    "\n",
    "# create conversion data\n",
    "p_data_wu = list(map(lambda x: 2 if x >= boarder1 else (1 if x >= boarder2 else 0), p_data_wu))\n",
    "p_data_takeuchi = list(map(lambda x: 2 if x >= boarder1 else (1 if x >= boarder2 else 0), p_data_takeuchi))\n",
    "p_data_zero = list(map(lambda x: 2 if x >= boarder1 else (1 if x >= boarder2 else 0), p_data_zero))\n",
    "\n",
    "# merge all to p_data\n",
    "p_data_wu = np.reshape(p_data_wu, (1000, 1))\n",
    "p_data_takeuchi = np.reshape(p_data_takeuchi, (1000, 1))\n",
    "p_data_zero = np.reshape(p_data_zero, (1000, 1))\n",
    "p_data = np.append(p_data_wu, p_data_takeuchi, axis=0)\n",
    "p_data = np.append(p_data, p_data_zero, axis=0)\n",
    "p_data = np.float32(p_data)\n",
    "print(\"pressure sensor data: \\n\" + str(p_data))"
   ]
  },
  {
   "cell_type": "code",
   "execution_count": 21,
   "metadata": {},
   "outputs": [
    {
     "name": "stdout",
     "output_type": "stream",
     "text": [
      "pressure sensor label: \n",
      "[[2]\n",
      " [2]\n",
      " [2]\n",
      " ...\n",
      " [0]\n",
      " [0]\n",
      " [0]]\n"
     ]
    }
   ],
   "source": [
    "# create coaching data\n",
    "p_label_wu = np.tile(2, (p_data_wu.shape[0], 1))\n",
    "p_label_takeuchi = np.tile(1, (p_data_takeuchi.shape[0], 1))\n",
    "p_label_zero = np.tile(0, (p_data_zero.shape[0], 1))\n",
    "p_label = np.append(p_label_wu, p_label_takeuchi, axis=0)\n",
    "p_label = np.append(p_label, p_label_zero, axis=0)\n",
    "print(\"pressure sensor label: \\n\" + str(p_label))"
   ]
  },
  {
   "cell_type": "code",
   "execution_count": 22,
   "metadata": {},
   "outputs": [
    {
     "name": "stdout",
     "output_type": "stream",
     "text": [
      "steps = 0, loss = 0.936285\n",
      "steps = 1000, loss = 0.017387\n",
      "steps = 2000, loss = 0.008568\n",
      "steps = 3000, loss = 0.005674\n",
      "steps = 4000, loss = 0.004239\n",
      "steps = 5000, loss = 0.003382\n",
      "steps = 6000, loss = 0.002813\n",
      "steps = 7000, loss = 0.002408\n",
      "steps = 8000, loss = 0.002105\n",
      "steps = 9000, loss = 0.001869\n"
     ]
    }
   ],
   "source": [
    "# define the tensoflow and weight function\n",
    "import tensorflow as tf\n",
    "weights = tf.Variable(tf.zeros([1, 3]), dtype=tf.float32)\n",
    "biases = tf.Variable(tf.zeros([3]), dtype=tf.float32)\n",
    "pressure_sensor_data = tf.placeholder(tf.float32)\n",
    "rps_data = tf.matmul(p_data, weights) + biases\n",
    "\n",
    "# coaching\n",
    "rps_labels = tf.placeholder(tf.int32)\n",
    "loss = tf.losses.sparse_softmax_cross_entropy(labels=rps_labels, logits=rps_data)\n",
    "\n",
    "# define an optimizer\n",
    "optimizer = tf.train.GradientDescentOptimizer(learning_rate=1).minimize(loss)\n",
    "\n",
    "# create a Session\n",
    "sess = tf.Session()\n",
    "\n",
    "# init the variables\n",
    "initializer = tf.global_variables_initializer()\n",
    "sess.run(initializer)\n",
    "\n",
    "# train the model\n",
    "for i in range(10000): \n",
    "  sess.run(optimizer, {pressure_sensor_data: p_data, rps_labels: p_label})\n",
    "  \n",
    "# print current loss\n",
    "  if i % 1000 == 0:\n",
    "    l = sess.run(loss, {pressure_sensor_data: p_data, rps_labels: p_label})\n",
    "    print(\"steps = {}, loss = {:f}\".format(i, l))"
   ]
  },
  {
   "cell_type": "code",
   "execution_count": 25,
   "metadata": {},
   "outputs": [
    {
     "name": "stdout",
     "output_type": "stream",
     "text": [
      "float weights[1][3] = {\n",
      "  {-13.754920,0.457206,13.297680},\n",
      "};\n",
      "\n",
      "float biases[3] = {10.884060,4.080285,-14.964365};\n",
      "\n"
     ]
    }
   ],
   "source": [
    "# print weights\n",
    "print(\"float weights[1][3] = {\")\n",
    "for v in sess.run(weights):\n",
    "  print(\"  {{{:f},{:f},{:f}}},\".format(v[0], v[1], v[2]))\n",
    "print(\"};\\n\")\n",
    "\n",
    "# print biases\n",
    "v = sess.run(biases)\n",
    "print(\"float biases[3] = {{{:f},{:f},{:f}}};\\n\".format(v[0], v[1], v[2]))"
   ]
  },
  {
   "cell_type": "code",
   "execution_count": null,
   "metadata": {},
   "outputs": [],
   "source": []
  }
 ],
 "metadata": {
  "kernelspec": {
   "display_name": "Python 2",
   "language": "python",
   "name": "python2"
  },
  "language_info": {
   "codemirror_mode": {
    "name": "ipython",
    "version": 2
   },
   "file_extension": ".py",
   "mimetype": "text/x-python",
   "name": "python",
   "nbconvert_exporter": "python",
   "pygments_lexer": "ipython2",
   "version": "2.7.18"
  }
 },
 "nbformat": 4,
 "nbformat_minor": 4
}
